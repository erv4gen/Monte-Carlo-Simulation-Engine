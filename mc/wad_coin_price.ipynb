{
 "cells": [
  {
   "cell_type": "code",
   "execution_count": 35,
   "metadata": {},
   "outputs": [],
   "source": [
    "import numpy as np\n",
    "import matplotlib.pyplot as plt\n",
    "import statsmodels.api as sm"
   ]
  },
  {
   "attachments": {},
   "cell_type": "markdown",
   "metadata": {},
   "source": [
    "%md\n",
    "## Yield Expressed in Price $P$\n",
    "\n",
    "\n",
    "\n",
    "$$P_{t}=\\frac{(P_{t-1}+r_{t-1}) \\sum_{i=1}^M SP_{t-1,i} + (1+r_{t-1})(M_{t}-B_{t}) }{N_{t-1} + M_{t}-B_{t}}$$\n",
    "\n",
    "Where:  \n",
    "$SP_{t, i}:$ 🔴**Initial**🔴 Cash amount blocked with i-th Institutional Service Provider on a day t. \n",
    "\n",
    "$P_{\\text{t}}:$ Price of a single WAD coin on a day t.\n",
    "\n",
    "$N_{t}:$ - amount of WADs outstanding on a day t.\n",
    "\n",
    "$M_t:$ - amount of WADs minted on day t.\n",
    "\n",
    "$B_t:$ - amount of WADs burned on day t.    "
   ]
  },
  {
   "cell_type": "code",
   "execution_count": 4,
   "metadata": {},
   "outputs": [
    {
     "name": "stdout",
     "output_type": "stream",
     "text": [
      "Pre transaction WAD price: 1.021\n",
      "Pre transaction $ amount 5104.999999999999\n",
      "----------\n",
      "adding 20000; burning: 0\n",
      "daily interest on minted: 2.9260273972602744\n",
      "daily interest on existing: 0.7315068493150686\n",
      "----------\n",
      "Post transaction $ amount 25108.657534246577\n",
      "Post transaction WAD price: 1.004346301369863\n"
     ]
    }
   ],
   "source": [
    "\n",
    "\n",
    "P_t = 1.021\n",
    "\n",
    "r_annual = 0.0534\n",
    "\n",
    "AMOUNT_BLOCKED = 5000\n",
    "\n",
    "NUMBER_OF_WADS = AMOUNT_BLOCKED\n",
    "\n",
    "\n",
    "N_TOMINT = 20000\n",
    "\n",
    "N_TO_BURN = 0\n",
    "\n",
    "r = r_annual / 365\n",
    "\n",
    "\n",
    "\n",
    "def original_variant(P_t,AMOUNT_BLOCKED,N_TOMINT,N_TO_BURN,r,NUMBER_OF_WADS):\n",
    "    return ( (1+r)*AMOUNT_BLOCKED + (N_TOMINT-N_TO_BURN) * P_t  ) / (NUMBER_OF_WADS+ N_TOMINT-N_TO_BURN)\n",
    "\n",
    "\n",
    "\n",
    "#why sum I don't like this formula anymore\n",
    "def variant1(P_t,AMOUNT_BLOCKED,N_TOMINT,N_TO_BURN,r,NUMBER_OF_WADS):\n",
    "    return ( (P_t+r)*AMOUNT_BLOCKED + (N_TOMINT-N_TO_BURN) * (1+r)  ) / (NUMBER_OF_WADS+ N_TOMINT-N_TO_BURN)\n",
    "\n",
    "\n",
    "\n",
    "# P_T = original_variant(P_t,AMOUNT_BLOCKED,N_TOMINT,N_TO_BURN,r,NUMBER_OF_WADS)\n",
    "\n",
    "P_T = variant1(P_t,AMOUNT_BLOCKED,N_TOMINT,N_TO_BURN,r,NUMBER_OF_WADS)\n",
    "\n",
    "\n",
    "\n",
    "NEW_AMOT_BLOOCKED = AMOUNT_BLOCKED - N_TO_BURN + N_TOMINT\n",
    "\n",
    "\n",
    "print(f'Pre transaction WAD price: {P_t}')\n",
    "print(f'Pre transaction $ amount',P_t * AMOUNT_BLOCKED)\n",
    "\n",
    "print('-'*10)\n",
    "print(f'adding {N_TOMINT}; burning: {N_TO_BURN}')\n",
    "print(f'daily interest on minted: {N_TOMINT * (r)}')\n",
    "print(f'daily interest on existing: {AMOUNT_BLOCKED * (r)}')\n",
    "print('-'* 10)\n",
    "print(f'Post transaction $ amount',P_T * NEW_AMOT_BLOOCKED)\n",
    "print(f'Post transaction WAD price: {P_T}')"
   ]
  },
  {
   "cell_type": "code",
   "execution_count": 5,
   "metadata": {},
   "outputs": [
    {
     "name": "stdout",
     "output_type": "stream",
     "text": [
      "initial amount 25000 simulating for  1000\n",
      "[1.004492602739726, 1.0046389041095891, 1.0047852054794522, 1.0049315068493152, 1.0050778082191782] \n",
      " [1.1500624657534553, 1.1502087671233183, 1.1503550684931814, 1.1505013698630444, 1.1506476712329075]\n",
      "SP`s book amount: 28938.314945966824 \n",
      "WadSet`s book amount: 28766.191780822686\n"
     ]
    },
    {
     "data": {
      "image/png": "[encoded data removed]",
      "text/plain": [
       "<Figure size 432x288 with 1 Axes>"
      ]
     },
     "metadata": {
      "needs_background": "light"
     },
     "output_type": "display_data"
    }
   ],
   "source": [
    "# n = int(np.log(P_t) / np.log(1+r))\n",
    "n = 1000\n",
    "\n",
    "prices = list()\n",
    "P_tt = P_T\n",
    "N_TOMINT, N_TO_BURN = 0 , 0\n",
    "NUMBER_OF_WADS = NEW_AMOT_BLOOCKED\n",
    "spbook = SPBook(NEW_AMOT_BLOOCKED,r_daily=r)\n",
    "\n",
    "print('initial amount', NEW_AMOT_BLOOCKED,'simulating for ', n)\n",
    "\n",
    "for t in range(n):\n",
    "    P_t = variant1(P_tt,NEW_AMOT_BLOOCKED,N_TOMINT,N_TO_BURN,r,NUMBER_OF_WADS)\n",
    "    prices.append(P_t)\n",
    "    P_tt = P_t\n",
    "\n",
    "    spbook.overnight()\n",
    "\n",
    "AMOUNT_BLOCKED_RES = NEW_AMOT_BLOOCKED * P_t\n",
    "print(prices[:5],'\\n',prices[-5:])\n",
    "print('SP`s book amount:',spbook.amount,'\\nWadSet`s book amount:',AMOUNT_BLOCKED_RES)\n",
    "\n",
    "\n",
    "X = [t for t in range(n)]\n",
    "plt.plot(X, prices);"
   ]
  },
  {
   "cell_type": "code",
   "execution_count": 6,
   "metadata": {},
   "outputs": [
    {
     "name": "stdout",
     "output_type": "stream",
     "text": [
      "                            OLS Regression Results                            \n",
      "==============================================================================\n",
      "Dep. Variable:                      y   R-squared:                       1.000\n",
      "Model:                            OLS   Adj. R-squared:                  1.000\n",
      "Method:                 Least Squares   F-statistic:                       inf\n",
      "Date:                Tue, 27 Jun 2023   Prob (F-statistic):               0.00\n",
      "Time:                        22:10:55   Log-Likelihood:                    inf\n",
      "No. Observations:                1000   AIC:                              -inf\n",
      "Df Residuals:                     998   BIC:                              -inf\n",
      "Df Model:                           1                                         \n",
      "Covariance Type:            nonrobust                                         \n",
      "==============================================================================\n",
      "                 coef    std err          t      P>|t|      [0.025      0.975]\n",
      "------------------------------------------------------------------------------\n",
      "const          1.0045          0        inf      0.000       1.004       1.004\n",
      "x1             0.0001          0        inf      0.000       0.000       0.000\n",
      "==============================================================================\n",
      "Omnibus:                     2705.699   Durbin-Watson:                     nan\n",
      "Prob(Omnibus):                  0.000   Jarque-Bera (JB):              375.000\n",
      "Skew:                           0.000   Prob(JB):                     3.71e-82\n",
      "Kurtosis:                       0.000   Cond. No.                     1.15e+03\n",
      "==============================================================================\n",
      "\n",
      "Notes:\n",
      "[1] Standard Errors assume that the covariance matrix of the errors is correctly specified.\n",
      "[2] The condition number is large, 1.15e+03. This might indicate that there are\n",
      "strong multicollinearity or other numerical problems.\n"
     ]
    },
    {
     "name": "stderr",
     "output_type": "stream",
     "text": [
      "c:\\Users\\ervik\\Anaconda3\\envs\\tda8\\lib\\site-packages\\statsmodels\\regression\\linear_model.py:1870: RuntimeWarning: divide by zero encountered in double_scalars\n",
      "  return self.mse_model/self.mse_resid\n",
      "c:\\Users\\ervik\\Anaconda3\\envs\\tda8\\lib\\site-packages\\statsmodels\\regression\\linear_model.py:956: RuntimeWarning: divide by zero encountered in log\n",
      "  llf = -nobs2*np.log(2*np.pi) - nobs2*np.log(ssr / nobs) - nobs2\n",
      "c:\\Users\\ervik\\Anaconda3\\envs\\tda8\\lib\\site-packages\\statsmodels\\stats\\stattools.py:50: RuntimeWarning: invalid value encountered in double_scalars\n",
      "  dw = np.sum(diff_resids**2, axis=axis) / np.sum(resids**2, axis=axis)\n"
     ]
    }
   ],
   "source": [
    "def fit_ols(X,Y):\n",
    "    X = sm.add_constant(X)\n",
    "\n",
    "    # Fit the OLS model\n",
    "    model = sm.OLS(Y, X)\n",
    "    results = model.fit()\n",
    "\n",
    "    # Print the summary\n",
    "    print(results.summary())\n",
    "\n",
    "fit_ols(X,prices)"
   ]
  },
  {
   "attachments": {},
   "cell_type": "markdown",
   "metadata": {},
   "source": [
    "%md\n",
    "## Yield Expressed in Blocked Amount $SP$\n",
    "\n",
    "\n",
    "\n",
    "$$P_{t}=\\frac{(\\sum_{i=1}^M SP_{t-1,i} + P_{t-1} M_{t})(1+r_{t-1})- P_{t-1}B_{t} }{N_{t-1} + M_{t}-B_{t}}$$\n",
    "\n",
    "Where:  \n",
    "$SP_{t, i}:$ Cash amount blocked with i-th Institutional Service Provider on a day t.\n",
    "\n",
    "$P_{\\text{t}}:$ Price of a single WAD coin on a day t.\n",
    "\n",
    "$N_{t}:$ - amount of WADs outstanding on a day t.\n",
    "\n",
    "$M_t:$ - amount of WADs minted on day t.\n",
    "\n",
    "$B_t:$ - amount of WADs burned on day t."
   ]
  },
  {
   "cell_type": "code",
   "execution_count": 65,
   "metadata": {},
   "outputs": [],
   "source": [
    "from typing import List\n",
    "\n",
    "'''\n",
    "\n",
    "If no mint/burin then \n",
    "\n",
    "P_t = P_{t-1} * (1+r_{t-1}) \n",
    "\n",
    "P_t = sum(SP) / N_t\n",
    "\n",
    "\n",
    "if burn/mint - smooth between old price and new price.\n",
    "\n",
    "\n",
    "remove parameters \n",
    "NUMBER_OF_WADS_TO_MINT = CASH_TO_MINT/P_{t-1}\n",
    "\n",
    "NUMBER_OF_WADS_t = NUMBER_OF_WADS_{t-1}  +NUMBER_OF_WADS_TO_MINT - WADS_TO_BURN\n",
    "\n",
    "P_t = ((SP_TOTAL_CASH + CASH_TO_MINT) * (1+r) - WADS_TO_BURN * P_t) / (NUMBER_OF_WADS + (CASH_TO_MINT/P_{t-1}) - WADS_TO_BURN)\n",
    "= ((SP_TOTAL_CASH + CASH_TO_MINT) * (1+r) - WADS_TO_BURN * P_t) / (NUMBER_OF_WADS_t)\n",
    "\n",
    "\n",
    "\n",
    "\n",
    "\n",
    "~~~\n",
    "SP_TOTAL_CASH = Pt * NUMBER_OF_WADS\n",
    "~~~\n",
    "\n",
    "\n",
    "\n",
    "- add comision\n",
    "- add price of buring \n",
    "- \n",
    "\n",
    "'''\n",
    "\n",
    "def variant2(P_t,AMOUNT_BLOCKED,N_TOMINT,N_TO_BURN,r,NUMBER_OF_WADS):\n",
    "    return  ((AMOUNT_BLOCKED + N_TOMINT * P_t) * (1+r) - N_TO_BURN * P_t) / (NUMBER_OF_WADS + N_TOMINT - N_TO_BURN)\n",
    "\n",
    "def variant3(P_t,AMOUNT_BLOCKED,AMT_TOMINT,N_TO_BURN,r,NUMBER_OF_WADS):\n",
    "    return  ((AMOUNT_BLOCKED + AMT_TOMINT) * (1+r) - N_TO_BURN * P_t) / (NUMBER_OF_WADS)"
   ]
  },
  {
   "cell_type": "code",
   "execution_count": 66,
   "metadata": {},
   "outputs": [],
   "source": [
    "class SPBook:\n",
    "    def __init__(self,initial_amount,r_daily) -> None:\n",
    "        self.amount = initial_amount\n",
    "        self.r_daily = r_daily\n",
    "        self.i = 0\n",
    "    def overnight(self):\n",
    "        self.amount*=  (1+self.r_daily)\n",
    "        self.i+=1\n",
    "    def adjust_amout(self,credit:float,debit:float):\n",
    "        self.amount = self.amount - credit + debit\n",
    "class WAD:\n",
    "    def __init__(self,initial_amount,r_daily,price_f,initial_price=1.0) -> None:\n",
    "        self.amount = initial_amount\n",
    "        self.p_t = initial_price\n",
    "        self.P = []\n",
    "        self.n_wads = self.cal_number_of_coins_from_price(initial_amount,initial_price)\n",
    "        self.r_daily = r_daily\n",
    "        self.i = 0\n",
    "        self.price_f = price_f\n",
    "\n",
    "    def cal_number_of_coins_from_price(self,amout,price):\n",
    "        return amout/ price\n",
    "    \n",
    "    def mint_burn(self,amt_tomint,n_toburn):\n",
    "        n_wad_to_mint = amt_tomint/ self.p_t\n",
    "        self.n_wads = self.n_wads + n_wad_to_mint - n_toburn\n",
    "\n",
    "    def overnight(self,net_amot,amt_tomint=0.0,n_toburn=0.0):\n",
    "        \n",
    "        self.mint_burn(amt_tomint,n_toburn)\n",
    "        \n",
    "        self.p_t = self.price_f(self.p_t,self.amount,amt_tomint,n_toburn,self.r_daily,self.n_wads)\n",
    "        self.collect_amount(net_amot)\n",
    "        self.i+=1\n",
    "        self.P.append(self.p_t)\n",
    "    \n",
    "    def collect_amount(self,amount):\n",
    "        self.amount = amount\n"
   ]
  },
  {
   "cell_type": "code",
   "execution_count": 67,
   "metadata": {},
   "outputs": [],
   "source": [
    "\n",
    "\n",
    "def variant2_simple_from_P_r(P_t,AMOUNT_BLOCKED=0.0,N_TOMINT=0.0,N_TO_BURN=0,r=0.0,NUMBER_OF_WADS=0.0):\n",
    "    return   P_t * (1+r) \n",
    "\n",
    "def variant2_simple_from_N(P_t=0.0,AMOUNT_BLOCKED=0.0,N_TOMINT=0.0,N_TO_BURN=0,r=0.0,NUMBER_OF_WADS=0.0):\n",
    "    return  AMOUNT_BLOCKED / NUMBER_OF_WADS \n",
    "\n",
    "class PriceBalanceChecker:\n",
    "    def __init__(self) -> None:\n",
    "        self.i = 0\n",
    "        self.P_r = []\n",
    "        self.P_N = []\n",
    "        self.error = []\n",
    "    def chech_variant2(self,P_t,AMOUNT_BLOCKED,r,NUMBER_OF_WADS):\n",
    "        variant2_simple_from_P_r_ = variant2_simple_from_P_r(P_t=P_t,r=r)\n",
    "\n",
    "\n",
    "        variant2_simple_from_N_ = variant2_simple_from_N(AMOUNT_BLOCKED=AMOUNT_BLOCKED,NUMBER_OF_WADS=NUMBER_OF_WADS)\n",
    "        \n",
    "        \n",
    "\n",
    "        print(f'Price balance check: price(P-1):{variant2_simple_from_P_r_};---prine(N):{variant2_simple_from_N_}')\n",
    "        self.P_N.append(variant2_simple_from_N_)\n",
    "        self.P_r.append(variant2_simple_from_P_r_)\n",
    "        self.error.append(variant2_simple_from_P_r_ - variant2_simple_from_N_)\n",
    "\n",
    "\n",
    "def run_overnight(wad_network:WAD,price_checker:PriceBalanceChecker,SPs:List[SPBook],AMT_TOMINT:int=0.0,N_TO_BURN:int=0.0):\n",
    "    print('-'*10)\n",
    "    total_SP_amnt = 0\n",
    "\n",
    "    #First: in the \"morning\" collect overnight accross SPs\n",
    "    for i,SP in enumerate(SPs):\n",
    "        SP.overnight()\n",
    "        AMT_TO_BURN = N_TO_BURN * wad_network.p_t\n",
    "        SP.adjust_amout(credit=AMT_TO_BURN,debit=AMT_TOMINT)\n",
    "        total_SP_amnt+=SP.amount\n",
    "        print(f'\\tSP{i} amount EOD:',SP.amount)\n",
    "    \n",
    "    #Then the network calculates \n",
    "    price_checker.chech_variant2(P_t=wad_network.p_t,AMOUNT_BLOCKED=total_SP_amnt,r=wad_network.r_daily,NUMBER_OF_WADS=wad_network.n_wads)\n",
    "\n",
    "    wad_network.overnight(net_amot=total_SP_amnt,amt_tomint=AMT_TOMINT,n_toburn=N_TO_BURN)\n",
    "    print(f'T{wad_network.i}:amount:{wad_network.amount}:,number:{wad_network.n_wads},;price:,{wad_network.p_t}')\n",
    "    "
   ]
  },
  {
   "cell_type": "code",
   "execution_count": 68,
   "metadata": {},
   "outputs": [
    {
     "name": "stdout",
     "output_type": "stream",
     "text": [
      "SOFR rate: 0.05 (daily:0.00013698630136986303) \n",
      " ------------------------------\n",
      "T0:amount:10000:,number:10000.0,;price:,1.0\n",
      "----------\n",
      "\tSP0 amount EOD: 10001.369863013699\n",
      "Price balance check: price(P-1):1.0001369863013698;---prine(N):1.0001369863013698\n"
     ]
    },
    {
     "ename": "TypeError",
     "evalue": "overnight() got an unexpected keyword argument 'n_tomint'",
     "output_type": "error",
     "traceback": [
      "\u001b[1;31m---------------------------------------------------------------------------\u001b[0m",
      "\u001b[1;31mTypeError\u001b[0m                                 Traceback (most recent call last)",
      "\u001b[1;32m<ipython-input-68-ee507a3cc665>\u001b[0m in \u001b[0;36m<module>\u001b[1;34m\u001b[0m\n\u001b[0;32m     22\u001b[0m \u001b[1;33m\u001b[0m\u001b[0m\n\u001b[0;32m     23\u001b[0m \u001b[1;32mfor\u001b[0m \u001b[0mi\u001b[0m \u001b[1;32min\u001b[0m \u001b[0mrange\u001b[0m\u001b[1;33m(\u001b[0m\u001b[0mrun_days\u001b[0m\u001b[1;33m)\u001b[0m\u001b[1;33m:\u001b[0m\u001b[1;33m\u001b[0m\u001b[1;33m\u001b[0m\u001b[0m\n\u001b[1;32m---> 24\u001b[1;33m     \u001b[0mrun_overnight\u001b[0m\u001b[1;33m(\u001b[0m\u001b[0mwad_network\u001b[0m\u001b[1;33m,\u001b[0m\u001b[0mprice_checker\u001b[0m\u001b[1;33m=\u001b[0m\u001b[0mprice_checker\u001b[0m\u001b[1;33m,\u001b[0m\u001b[0mSPs\u001b[0m\u001b[1;33m=\u001b[0m\u001b[1;33m[\u001b[0m\u001b[0mspbook0\u001b[0m\u001b[1;33m]\u001b[0m\u001b[1;33m)\u001b[0m\u001b[1;33m\u001b[0m\u001b[1;33m\u001b[0m\u001b[0m\n\u001b[0m\u001b[0;32m     25\u001b[0m \u001b[1;33m\u001b[0m\u001b[0m\n\u001b[0;32m     26\u001b[0m \u001b[1;33m\u001b[0m\u001b[0m\n",
      "\u001b[1;32m<ipython-input-67-d7515f592167>\u001b[0m in \u001b[0;36mrun_overnight\u001b[1;34m(wad_network, price_checker, SPs, N_TOMINT, N_TO_BURN)\u001b[0m\n\u001b[0;32m     39\u001b[0m     \u001b[0mprice_checker\u001b[0m\u001b[1;33m.\u001b[0m\u001b[0mchech_variant2\u001b[0m\u001b[1;33m(\u001b[0m\u001b[0mP_t\u001b[0m\u001b[1;33m=\u001b[0m\u001b[0mwad_network\u001b[0m\u001b[1;33m.\u001b[0m\u001b[0mp_t\u001b[0m\u001b[1;33m,\u001b[0m\u001b[0mAMOUNT_BLOCKED\u001b[0m\u001b[1;33m=\u001b[0m\u001b[0mtotal_SP_amnt\u001b[0m\u001b[1;33m,\u001b[0m\u001b[0mr\u001b[0m\u001b[1;33m=\u001b[0m\u001b[0mwad_network\u001b[0m\u001b[1;33m.\u001b[0m\u001b[0mr_daily\u001b[0m\u001b[1;33m,\u001b[0m\u001b[0mNUMBER_OF_WADS\u001b[0m\u001b[1;33m=\u001b[0m\u001b[0mwad_network\u001b[0m\u001b[1;33m.\u001b[0m\u001b[0mn_wads\u001b[0m\u001b[1;33m)\u001b[0m\u001b[1;33m\u001b[0m\u001b[1;33m\u001b[0m\u001b[0m\n\u001b[0;32m     40\u001b[0m \u001b[1;33m\u001b[0m\u001b[0m\n\u001b[1;32m---> 41\u001b[1;33m     \u001b[0mwad_network\u001b[0m\u001b[1;33m.\u001b[0m\u001b[0movernight\u001b[0m\u001b[1;33m(\u001b[0m\u001b[0mnet_amot\u001b[0m\u001b[1;33m=\u001b[0m\u001b[0mtotal_SP_amnt\u001b[0m\u001b[1;33m,\u001b[0m\u001b[0mn_tomint\u001b[0m\u001b[1;33m=\u001b[0m\u001b[0mN_TOMINT\u001b[0m\u001b[1;33m,\u001b[0m\u001b[0mn_toburn\u001b[0m\u001b[1;33m=\u001b[0m\u001b[0mN_TO_BURN\u001b[0m\u001b[1;33m)\u001b[0m\u001b[1;33m\u001b[0m\u001b[1;33m\u001b[0m\u001b[0m\n\u001b[0m\u001b[0;32m     42\u001b[0m     \u001b[0mprint\u001b[0m\u001b[1;33m(\u001b[0m\u001b[1;34mf'T{wad_network.i}:amount:{wad_network.amount}:,number:{wad_network.n_wads},;price:,{wad_network.p_t}'\u001b[0m\u001b[1;33m)\u001b[0m\u001b[1;33m\u001b[0m\u001b[1;33m\u001b[0m\u001b[0m\n\u001b[0;32m     43\u001b[0m \u001b[1;33m\u001b[0m\u001b[0m\n",
      "\u001b[1;31mTypeError\u001b[0m: overnight() got an unexpected keyword argument 'n_tomint'"
     ]
    }
   ],
   "source": [
    "\n",
    "\n",
    "\n",
    "\n",
    "run_days = 90\n",
    "r_annual = 0.05\n",
    "r = r_annual / 365    \n",
    "print(f'SOFR rate: {r_annual} (daily:{r})','\\n','-'*30)\n",
    "\n",
    "\n",
    "\n",
    "\n",
    "\n",
    "P_t = 1.\n",
    "INITIAL_MINTED = 10000\n",
    "spbook0 = SPBook(INITIAL_MINTED,r_daily=r)\n",
    "wad_network = WAD(initial_amount=INITIAL_MINTED,r_daily=r,price_f=variant3,initial_price=P_t)\n",
    "price_checker=  PriceBalanceChecker()\n",
    "\n",
    "#Both amount blocked and number of WADs are the function of initial minted amount and price\n",
    "AMOUNT_BLOCKED_T0 = 5000 * P_t\n",
    "NUMBER_OF_WADS_T0 = AMOUNT_BLOCKED_T0 / P_t\n",
    "\n",
    "\n",
    "print(f'T0:amount:{wad_network.amount}:,number:{wad_network.n_wads},;price:,{wad_network.p_t}')\n",
    "\n",
    "for i in range(run_days):\n",
    "    run_overnight(wad_network,price_checker=price_checker,SPs=[spbook0])\n",
    "\n",
    "\n",
    "# #ADD more \n",
    "# N_TOMINT0 = INITIAL_MINTED * 2\n",
    "# N_TO_BURN0 = 0\n",
    "# print(f'will mint:{N_TOMINT0},will burn:{N_TO_BURN0}')\n",
    "# run_overnight(wad_network,price_checker=price_checker,SPs=[spbook0],N_TOMINT=N_TOMINT0,N_TO_BURN=N_TO_BURN0)\n",
    "\n",
    "\n",
    "# for i in range(run_days):\n",
    "#     run_overnight(wad_network,price_checker=price_checker,SPs=[spbook0])\n",
    "    \n",
    "\n",
    "\n",
    "# #Remove amlost all\n",
    "# N_TOMINT1 = 0\n",
    "# N_TO_BURN1 = (INITIAL_MINTED + N_TOMINT0) * .9\n",
    "# print(f'will mint:{N_TOMINT1},will burn:{N_TO_BURN1}')\n",
    "# run_overnight(wad_network,price_checker=price_checker,SPs=[spbook0],N_TOMINT=N_TOMINT1,N_TO_BURN=N_TO_BURN1)\n",
    "\n",
    "# for i in range(run_days):\n",
    "#     run_overnight(wad_network,price_checker=price_checker,SPs=[spbook0])\n",
    "\n",
    "\n",
    "# #restore initial amount\n",
    "# N_TOMINT2 = INITIAL_MINTED\n",
    "# N_TO_BURN2 = 0\n",
    "# print(f'will mint:{N_TOMINT1},will burn:{N_TO_BURN1}')\n",
    "# run_overnight(wad_network,price_checker=price_checker,SPs=[spbook0],N_TOMINT=N_TOMINT2,N_TO_BURN=N_TO_BURN2)\n",
    "\n",
    "# for i in range(run_days):\n",
    "#     run_overnight(wad_network,price_checker=price_checker,SPs=[spbook0])\n",
    "    \n",
    "\n",
    "\n",
    "\n",
    "#random withdrawl/deposit\n",
    "\n",
    "import random\n",
    "AMOUNT_TT = wad_network.amount\n",
    "days_multpl = 8\n",
    "p_mint_burn_event = 0.3\n",
    "for i in range(run_days*days_multpl):\n",
    "    if random.random() >p_mint_burn_event:\n",
    "        N_TOMINT_TT = AMOUNT_TT * random.uniform(0.01,0.10)\n",
    "        N_TO_BURN2_TT = AMOUNT_TT * random.uniform(0.01,0.10)\n",
    "\n",
    "        print(f'will mint:{N_TOMINT_TT},will burn:{N_TO_BURN2_TT}')\n",
    "        run_overnight(wad_network,price_checker=price_checker,SPs=[spbook0],N_TOMINT=N_TOMINT_TT,N_TO_BURN=N_TO_BURN2_TT)\n",
    "    else:\n",
    "        run_overnight(wad_network,price_checker=price_checker,SPs=[spbook0])\n",
    "\n",
    "\n",
    "\n",
    "\n",
    "fig0 , ax0 = plt.subplots(figsize=(6,4))\n",
    "X , P = [t for t in range(wad_network.i)],wad_network.P\n",
    "ax0.plot(X, P);\n",
    "ax0.set_title('Price simulation')\n",
    "fit_ols(X,P)\n",
    "\n",
    "\n",
    "fig1 , ax1 = plt.subplots(figsize=(6,4))\n",
    "error = price_checker.error\n",
    "ax1.plot(X, error);\n",
    "ax1.set_title('Cummulative Error')\n",
    "# fit_ols(X,P)"
   ]
  },
  {
   "cell_type": "code",
   "execution_count": null,
   "metadata": {},
   "outputs": [],
   "source": [
    "\n",
    "\n",
    "# P_T = variant2(P_t,AMOUNT_BLOCKED_T,N_TOMINT,N_TO_BURN,r,NUMBER_OF_WADS_T)\n",
    "\n",
    "\n",
    "\n",
    "# NEW_AMOT_BLOOCKED = AMOUNT_BLOCKED_T - N_TO_BURN + N_TOMINT\n",
    "\n",
    "\n",
    "# print(f'Pre transaction WAD price: {P_t}')\n",
    "# print(f'Pre transaction $ amount',P_t * AMOUNT_BLOCKED)\n",
    "\n",
    "# print('-'*10)\n",
    "# print(f'adding {N_TOMINT}; burning: {N_TO_BURN}')\n",
    "# print(f'daily interest on minted: {N_TOMINT * (r)}')\n",
    "# print(f'daily interest on existing: {AMOUNT_BLOCKED * (r)}')\n",
    "# print('-'* 10)\n",
    "# print(f'Post transaction $ amount',P_T * NEW_AMOT_BLOOCKED)\n",
    "# print(f'Post transaction WAD price: {P_T}')\n"
   ]
  },
  {
   "cell_type": "code",
   "execution_count": 9,
   "metadata": {},
   "outputs": [
    {
     "data": {
      "text/plain": [
       "25108.657534246577"
      ]
     },
     "execution_count": 9,
     "metadata": {},
     "output_type": "execute_result"
    }
   ],
   "source": [
    "NEW_AMOT_BLOOCKED_T = P_T * NEW_AMOT_BLOOCKED\n",
    "NEW_AMOT_BLOOCKED_T"
   ]
  },
  {
   "cell_type": "code",
   "execution_count": null,
   "metadata": {},
   "outputs": [],
   "source": []
  },
  {
   "cell_type": "code",
   "execution_count": 10,
   "metadata": {},
   "outputs": [
    {
     "name": "stdout",
     "output_type": "stream",
     "text": [
      "[1.005171791480578, 1.0059979600763154, 1.0068248077147341, 1.0076523349539517, 1.008480542352544] \n",
      " [2.276480890134077, 2.2783519703177486, 2.2802245883755443, 2.282098745571469, 2.283974443170569]\n",
      "SP`s book amount: 57099.36107926433 \n",
      "WadSet`s book amount: 57300.43586188772\n"
     ]
    },
    {
     "ename": "ValueError",
     "evalue": "endog and exog matrices are different sizes",
     "output_type": "error",
     "traceback": [
      "\u001b[1;31m---------------------------------------------------------------------------\u001b[0m",
      "\u001b[1;31mValueError\u001b[0m                                Traceback (most recent call last)",
      "\u001b[1;32m<ipython-input-10-6efb2b72ae51>\u001b[0m in \u001b[0;36m<module>\u001b[1;34m\u001b[0m\n\u001b[0;32m     26\u001b[0m \u001b[0mplt\u001b[0m\u001b[1;33m.\u001b[0m\u001b[0mplot\u001b[0m\u001b[1;33m(\u001b[0m\u001b[1;33m[\u001b[0m\u001b[0mt\u001b[0m \u001b[1;32mfor\u001b[0m \u001b[0mt\u001b[0m \u001b[1;32min\u001b[0m \u001b[0mrange\u001b[0m\u001b[1;33m(\u001b[0m\u001b[0mn\u001b[0m\u001b[1;33m)\u001b[0m\u001b[1;33m]\u001b[0m\u001b[1;33m,\u001b[0m \u001b[0mprices\u001b[0m\u001b[1;33m)\u001b[0m\u001b[1;33m;\u001b[0m\u001b[1;33m\u001b[0m\u001b[1;33m\u001b[0m\u001b[0m\n\u001b[0;32m     27\u001b[0m \u001b[1;33m\u001b[0m\u001b[0m\n\u001b[1;32m---> 28\u001b[1;33m \u001b[0mfit_ols\u001b[0m\u001b[1;33m(\u001b[0m\u001b[0mX\u001b[0m\u001b[1;33m,\u001b[0m\u001b[0mprices\u001b[0m\u001b[1;33m)\u001b[0m\u001b[1;33m\u001b[0m\u001b[1;33m\u001b[0m\u001b[0m\n\u001b[0m",
      "\u001b[1;32m<ipython-input-6-ee79534d4320>\u001b[0m in \u001b[0;36mfit_ols\u001b[1;34m(X, Y)\u001b[0m\n\u001b[0;32m      3\u001b[0m \u001b[1;33m\u001b[0m\u001b[0m\n\u001b[0;32m      4\u001b[0m     \u001b[1;31m# Fit the OLS model\u001b[0m\u001b[1;33m\u001b[0m\u001b[1;33m\u001b[0m\u001b[1;33m\u001b[0m\u001b[0m\n\u001b[1;32m----> 5\u001b[1;33m     \u001b[0mmodel\u001b[0m \u001b[1;33m=\u001b[0m \u001b[0msm\u001b[0m\u001b[1;33m.\u001b[0m\u001b[0mOLS\u001b[0m\u001b[1;33m(\u001b[0m\u001b[0mY\u001b[0m\u001b[1;33m,\u001b[0m \u001b[0mX\u001b[0m\u001b[1;33m)\u001b[0m\u001b[1;33m\u001b[0m\u001b[1;33m\u001b[0m\u001b[0m\n\u001b[0m\u001b[0;32m      6\u001b[0m     \u001b[0mresults\u001b[0m \u001b[1;33m=\u001b[0m \u001b[0mmodel\u001b[0m\u001b[1;33m.\u001b[0m\u001b[0mfit\u001b[0m\u001b[1;33m(\u001b[0m\u001b[1;33m)\u001b[0m\u001b[1;33m\u001b[0m\u001b[1;33m\u001b[0m\u001b[0m\n\u001b[0;32m      7\u001b[0m \u001b[1;33m\u001b[0m\u001b[0m\n",
      "\u001b[1;32mc:\\Users\\ervik\\Anaconda3\\envs\\tda8\\lib\\site-packages\\statsmodels\\regression\\linear_model.py\u001b[0m in \u001b[0;36m__init__\u001b[1;34m(self, endog, exog, missing, hasconst, **kwargs)\u001b[0m\n\u001b[0;32m    920\u001b[0m                    \"An exception will be raised in the next version.\")\n\u001b[0;32m    921\u001b[0m             \u001b[0mwarnings\u001b[0m\u001b[1;33m.\u001b[0m\u001b[0mwarn\u001b[0m\u001b[1;33m(\u001b[0m\u001b[0mmsg\u001b[0m\u001b[1;33m,\u001b[0m \u001b[0mValueWarning\u001b[0m\u001b[1;33m)\u001b[0m\u001b[1;33m\u001b[0m\u001b[1;33m\u001b[0m\u001b[0m\n\u001b[1;32m--> 922\u001b[1;33m         super(OLS, self).__init__(endog, exog, missing=missing,\n\u001b[0m\u001b[0;32m    923\u001b[0m                                   hasconst=hasconst, **kwargs)\n\u001b[0;32m    924\u001b[0m         \u001b[1;32mif\u001b[0m \u001b[1;34m\"weights\"\u001b[0m \u001b[1;32min\u001b[0m \u001b[0mself\u001b[0m\u001b[1;33m.\u001b[0m\u001b[0m_init_keys\u001b[0m\u001b[1;33m:\u001b[0m\u001b[1;33m\u001b[0m\u001b[1;33m\u001b[0m\u001b[0m\n",
      "\u001b[1;32mc:\\Users\\ervik\\Anaconda3\\envs\\tda8\\lib\\site-packages\\statsmodels\\regression\\linear_model.py\u001b[0m in \u001b[0;36m__init__\u001b[1;34m(self, endog, exog, weights, missing, hasconst, **kwargs)\u001b[0m\n\u001b[0;32m    746\u001b[0m         \u001b[1;32melse\u001b[0m\u001b[1;33m:\u001b[0m\u001b[1;33m\u001b[0m\u001b[1;33m\u001b[0m\u001b[0m\n\u001b[0;32m    747\u001b[0m             \u001b[0mweights\u001b[0m \u001b[1;33m=\u001b[0m \u001b[0mweights\u001b[0m\u001b[1;33m.\u001b[0m\u001b[0msqueeze\u001b[0m\u001b[1;33m(\u001b[0m\u001b[1;33m)\u001b[0m\u001b[1;33m\u001b[0m\u001b[1;33m\u001b[0m\u001b[0m\n\u001b[1;32m--> 748\u001b[1;33m         super(WLS, self).__init__(endog, exog, missing=missing,\n\u001b[0m\u001b[0;32m    749\u001b[0m                                   weights=weights, hasconst=hasconst, **kwargs)\n\u001b[0;32m    750\u001b[0m         \u001b[0mnobs\u001b[0m \u001b[1;33m=\u001b[0m \u001b[0mself\u001b[0m\u001b[1;33m.\u001b[0m\u001b[0mexog\u001b[0m\u001b[1;33m.\u001b[0m\u001b[0mshape\u001b[0m\u001b[1;33m[\u001b[0m\u001b[1;36m0\u001b[0m\u001b[1;33m]\u001b[0m\u001b[1;33m\u001b[0m\u001b[1;33m\u001b[0m\u001b[0m\n",
      "\u001b[1;32mc:\\Users\\ervik\\Anaconda3\\envs\\tda8\\lib\\site-packages\\statsmodels\\regression\\linear_model.py\u001b[0m in \u001b[0;36m__init__\u001b[1;34m(self, endog, exog, **kwargs)\u001b[0m\n\u001b[0;32m    200\u001b[0m     \"\"\"\n\u001b[0;32m    201\u001b[0m     \u001b[1;32mdef\u001b[0m \u001b[0m__init__\u001b[0m\u001b[1;33m(\u001b[0m\u001b[0mself\u001b[0m\u001b[1;33m,\u001b[0m \u001b[0mendog\u001b[0m\u001b[1;33m,\u001b[0m \u001b[0mexog\u001b[0m\u001b[1;33m,\u001b[0m \u001b[1;33m**\u001b[0m\u001b[0mkwargs\u001b[0m\u001b[1;33m)\u001b[0m\u001b[1;33m:\u001b[0m\u001b[1;33m\u001b[0m\u001b[1;33m\u001b[0m\u001b[0m\n\u001b[1;32m--> 202\u001b[1;33m         \u001b[0msuper\u001b[0m\u001b[1;33m(\u001b[0m\u001b[0mRegressionModel\u001b[0m\u001b[1;33m,\u001b[0m \u001b[0mself\u001b[0m\u001b[1;33m)\u001b[0m\u001b[1;33m.\u001b[0m\u001b[0m__init__\u001b[0m\u001b[1;33m(\u001b[0m\u001b[0mendog\u001b[0m\u001b[1;33m,\u001b[0m \u001b[0mexog\u001b[0m\u001b[1;33m,\u001b[0m \u001b[1;33m**\u001b[0m\u001b[0mkwargs\u001b[0m\u001b[1;33m)\u001b[0m\u001b[1;33m\u001b[0m\u001b[1;33m\u001b[0m\u001b[0m\n\u001b[0m\u001b[0;32m    203\u001b[0m         \u001b[0mself\u001b[0m\u001b[1;33m.\u001b[0m\u001b[0mpinv_wexog\u001b[0m\u001b[1;33m:\u001b[0m \u001b[0mFloat64Array\u001b[0m \u001b[1;33m|\u001b[0m \u001b[1;32mNone\u001b[0m \u001b[1;33m=\u001b[0m \u001b[1;32mNone\u001b[0m\u001b[1;33m\u001b[0m\u001b[1;33m\u001b[0m\u001b[0m\n\u001b[0;32m    204\u001b[0m         \u001b[0mself\u001b[0m\u001b[1;33m.\u001b[0m\u001b[0m_data_attr\u001b[0m\u001b[1;33m.\u001b[0m\u001b[0mextend\u001b[0m\u001b[1;33m(\u001b[0m\u001b[1;33m[\u001b[0m\u001b[1;34m'pinv_wexog'\u001b[0m\u001b[1;33m,\u001b[0m \u001b[1;34m'wendog'\u001b[0m\u001b[1;33m,\u001b[0m \u001b[1;34m'wexog'\u001b[0m\u001b[1;33m,\u001b[0m \u001b[1;34m'weights'\u001b[0m\u001b[1;33m]\u001b[0m\u001b[1;33m)\u001b[0m\u001b[1;33m\u001b[0m\u001b[1;33m\u001b[0m\u001b[0m\n",
      "\u001b[1;32mc:\\Users\\ervik\\Anaconda3\\envs\\tda8\\lib\\site-packages\\statsmodels\\base\\model.py\u001b[0m in \u001b[0;36m__init__\u001b[1;34m(self, endog, exog, **kwargs)\u001b[0m\n\u001b[0;32m    268\u001b[0m \u001b[1;33m\u001b[0m\u001b[0m\n\u001b[0;32m    269\u001b[0m     \u001b[1;32mdef\u001b[0m \u001b[0m__init__\u001b[0m\u001b[1;33m(\u001b[0m\u001b[0mself\u001b[0m\u001b[1;33m,\u001b[0m \u001b[0mendog\u001b[0m\u001b[1;33m,\u001b[0m \u001b[0mexog\u001b[0m\u001b[1;33m=\u001b[0m\u001b[1;32mNone\u001b[0m\u001b[1;33m,\u001b[0m \u001b[1;33m**\u001b[0m\u001b[0mkwargs\u001b[0m\u001b[1;33m)\u001b[0m\u001b[1;33m:\u001b[0m\u001b[1;33m\u001b[0m\u001b[1;33m\u001b[0m\u001b[0m\n\u001b[1;32m--> 270\u001b[1;33m         \u001b[0msuper\u001b[0m\u001b[1;33m(\u001b[0m\u001b[1;33m)\u001b[0m\u001b[1;33m.\u001b[0m\u001b[0m__init__\u001b[0m\u001b[1;33m(\u001b[0m\u001b[0mendog\u001b[0m\u001b[1;33m,\u001b[0m \u001b[0mexog\u001b[0m\u001b[1;33m,\u001b[0m \u001b[1;33m**\u001b[0m\u001b[0mkwargs\u001b[0m\u001b[1;33m)\u001b[0m\u001b[1;33m\u001b[0m\u001b[1;33m\u001b[0m\u001b[0m\n\u001b[0m\u001b[0;32m    271\u001b[0m         \u001b[0mself\u001b[0m\u001b[1;33m.\u001b[0m\u001b[0minitialize\u001b[0m\u001b[1;33m(\u001b[0m\u001b[1;33m)\u001b[0m\u001b[1;33m\u001b[0m\u001b[1;33m\u001b[0m\u001b[0m\n\u001b[0;32m    272\u001b[0m \u001b[1;33m\u001b[0m\u001b[0m\n",
      "\u001b[1;32mc:\\Users\\ervik\\Anaconda3\\envs\\tda8\\lib\\site-packages\\statsmodels\\base\\model.py\u001b[0m in \u001b[0;36m__init__\u001b[1;34m(self, endog, exog, **kwargs)\u001b[0m\n\u001b[0;32m     93\u001b[0m         \u001b[0mmissing\u001b[0m \u001b[1;33m=\u001b[0m \u001b[0mkwargs\u001b[0m\u001b[1;33m.\u001b[0m\u001b[0mpop\u001b[0m\u001b[1;33m(\u001b[0m\u001b[1;34m'missing'\u001b[0m\u001b[1;33m,\u001b[0m \u001b[1;34m'none'\u001b[0m\u001b[1;33m)\u001b[0m\u001b[1;33m\u001b[0m\u001b[1;33m\u001b[0m\u001b[0m\n\u001b[0;32m     94\u001b[0m         \u001b[0mhasconst\u001b[0m \u001b[1;33m=\u001b[0m \u001b[0mkwargs\u001b[0m\u001b[1;33m.\u001b[0m\u001b[0mpop\u001b[0m\u001b[1;33m(\u001b[0m\u001b[1;34m'hasconst'\u001b[0m\u001b[1;33m,\u001b[0m \u001b[1;32mNone\u001b[0m\u001b[1;33m)\u001b[0m\u001b[1;33m\u001b[0m\u001b[1;33m\u001b[0m\u001b[0m\n\u001b[1;32m---> 95\u001b[1;33m         self.data = self._handle_data(endog, exog, missing, hasconst,\n\u001b[0m\u001b[0;32m     96\u001b[0m                                       **kwargs)\n\u001b[0;32m     97\u001b[0m         \u001b[0mself\u001b[0m\u001b[1;33m.\u001b[0m\u001b[0mk_constant\u001b[0m \u001b[1;33m=\u001b[0m \u001b[0mself\u001b[0m\u001b[1;33m.\u001b[0m\u001b[0mdata\u001b[0m\u001b[1;33m.\u001b[0m\u001b[0mk_constant\u001b[0m\u001b[1;33m\u001b[0m\u001b[1;33m\u001b[0m\u001b[0m\n",
      "\u001b[1;32mc:\\Users\\ervik\\Anaconda3\\envs\\tda8\\lib\\site-packages\\statsmodels\\base\\model.py\u001b[0m in \u001b[0;36m_handle_data\u001b[1;34m(self, endog, exog, missing, hasconst, **kwargs)\u001b[0m\n\u001b[0;32m    133\u001b[0m \u001b[1;33m\u001b[0m\u001b[0m\n\u001b[0;32m    134\u001b[0m     \u001b[1;32mdef\u001b[0m \u001b[0m_handle_data\u001b[0m\u001b[1;33m(\u001b[0m\u001b[0mself\u001b[0m\u001b[1;33m,\u001b[0m \u001b[0mendog\u001b[0m\u001b[1;33m,\u001b[0m \u001b[0mexog\u001b[0m\u001b[1;33m,\u001b[0m \u001b[0mmissing\u001b[0m\u001b[1;33m,\u001b[0m \u001b[0mhasconst\u001b[0m\u001b[1;33m,\u001b[0m \u001b[1;33m**\u001b[0m\u001b[0mkwargs\u001b[0m\u001b[1;33m)\u001b[0m\u001b[1;33m:\u001b[0m\u001b[1;33m\u001b[0m\u001b[1;33m\u001b[0m\u001b[0m\n\u001b[1;32m--> 135\u001b[1;33m         \u001b[0mdata\u001b[0m \u001b[1;33m=\u001b[0m \u001b[0mhandle_data\u001b[0m\u001b[1;33m(\u001b[0m\u001b[0mendog\u001b[0m\u001b[1;33m,\u001b[0m \u001b[0mexog\u001b[0m\u001b[1;33m,\u001b[0m \u001b[0mmissing\u001b[0m\u001b[1;33m,\u001b[0m \u001b[0mhasconst\u001b[0m\u001b[1;33m,\u001b[0m \u001b[1;33m**\u001b[0m\u001b[0mkwargs\u001b[0m\u001b[1;33m)\u001b[0m\u001b[1;33m\u001b[0m\u001b[1;33m\u001b[0m\u001b[0m\n\u001b[0m\u001b[0;32m    136\u001b[0m         \u001b[1;31m# kwargs arrays could have changed, easier to just attach here\u001b[0m\u001b[1;33m\u001b[0m\u001b[1;33m\u001b[0m\u001b[1;33m\u001b[0m\u001b[0m\n\u001b[0;32m    137\u001b[0m         \u001b[1;32mfor\u001b[0m \u001b[0mkey\u001b[0m \u001b[1;32min\u001b[0m \u001b[0mkwargs\u001b[0m\u001b[1;33m:\u001b[0m\u001b[1;33m\u001b[0m\u001b[1;33m\u001b[0m\u001b[0m\n",
      "\u001b[1;32mc:\\Users\\ervik\\Anaconda3\\envs\\tda8\\lib\\site-packages\\statsmodels\\base\\data.py\u001b[0m in \u001b[0;36mhandle_data\u001b[1;34m(endog, exog, missing, hasconst, **kwargs)\u001b[0m\n\u001b[0;32m    673\u001b[0m \u001b[1;33m\u001b[0m\u001b[0m\n\u001b[0;32m    674\u001b[0m     \u001b[0mklass\u001b[0m \u001b[1;33m=\u001b[0m \u001b[0mhandle_data_class_factory\u001b[0m\u001b[1;33m(\u001b[0m\u001b[0mendog\u001b[0m\u001b[1;33m,\u001b[0m \u001b[0mexog\u001b[0m\u001b[1;33m)\u001b[0m\u001b[1;33m\u001b[0m\u001b[1;33m\u001b[0m\u001b[0m\n\u001b[1;32m--> 675\u001b[1;33m     return klass(endog, exog=exog, missing=missing, hasconst=hasconst,\n\u001b[0m\u001b[0;32m    676\u001b[0m                  **kwargs)\n",
      "\u001b[1;32mc:\\Users\\ervik\\Anaconda3\\envs\\tda8\\lib\\site-packages\\statsmodels\\base\\data.py\u001b[0m in \u001b[0;36m__init__\u001b[1;34m(self, endog, exog, missing, hasconst, **kwargs)\u001b[0m\n\u001b[0;32m     87\u001b[0m         \u001b[0mself\u001b[0m\u001b[1;33m.\u001b[0m\u001b[0mk_constant\u001b[0m \u001b[1;33m=\u001b[0m \u001b[1;36m0\u001b[0m\u001b[1;33m\u001b[0m\u001b[1;33m\u001b[0m\u001b[0m\n\u001b[0;32m     88\u001b[0m         \u001b[0mself\u001b[0m\u001b[1;33m.\u001b[0m\u001b[0m_handle_constant\u001b[0m\u001b[1;33m(\u001b[0m\u001b[0mhasconst\u001b[0m\u001b[1;33m)\u001b[0m\u001b[1;33m\u001b[0m\u001b[1;33m\u001b[0m\u001b[0m\n\u001b[1;32m---> 89\u001b[1;33m         \u001b[0mself\u001b[0m\u001b[1;33m.\u001b[0m\u001b[0m_check_integrity\u001b[0m\u001b[1;33m(\u001b[0m\u001b[1;33m)\u001b[0m\u001b[1;33m\u001b[0m\u001b[1;33m\u001b[0m\u001b[0m\n\u001b[0m\u001b[0;32m     90\u001b[0m         \u001b[0mself\u001b[0m\u001b[1;33m.\u001b[0m\u001b[0m_cache\u001b[0m \u001b[1;33m=\u001b[0m \u001b[1;33m{\u001b[0m\u001b[1;33m}\u001b[0m\u001b[1;33m\u001b[0m\u001b[1;33m\u001b[0m\u001b[0m\n\u001b[0;32m     91\u001b[0m \u001b[1;33m\u001b[0m\u001b[0m\n",
      "\u001b[1;32mc:\\Users\\ervik\\Anaconda3\\envs\\tda8\\lib\\site-packages\\statsmodels\\base\\data.py\u001b[0m in \u001b[0;36m_check_integrity\u001b[1;34m(self)\u001b[0m\n\u001b[0;32m    434\u001b[0m         \u001b[1;32mif\u001b[0m \u001b[0mself\u001b[0m\u001b[1;33m.\u001b[0m\u001b[0mexog\u001b[0m \u001b[1;32mis\u001b[0m \u001b[1;32mnot\u001b[0m \u001b[1;32mNone\u001b[0m\u001b[1;33m:\u001b[0m\u001b[1;33m\u001b[0m\u001b[1;33m\u001b[0m\u001b[0m\n\u001b[0;32m    435\u001b[0m             \u001b[1;32mif\u001b[0m \u001b[0mlen\u001b[0m\u001b[1;33m(\u001b[0m\u001b[0mself\u001b[0m\u001b[1;33m.\u001b[0m\u001b[0mexog\u001b[0m\u001b[1;33m)\u001b[0m \u001b[1;33m!=\u001b[0m \u001b[0mlen\u001b[0m\u001b[1;33m(\u001b[0m\u001b[0mself\u001b[0m\u001b[1;33m.\u001b[0m\u001b[0mendog\u001b[0m\u001b[1;33m)\u001b[0m\u001b[1;33m:\u001b[0m\u001b[1;33m\u001b[0m\u001b[1;33m\u001b[0m\u001b[0m\n\u001b[1;32m--> 436\u001b[1;33m                 \u001b[1;32mraise\u001b[0m \u001b[0mValueError\u001b[0m\u001b[1;33m(\u001b[0m\u001b[1;34m\"endog and exog matrices are different sizes\"\u001b[0m\u001b[1;33m)\u001b[0m\u001b[1;33m\u001b[0m\u001b[1;33m\u001b[0m\u001b[0m\n\u001b[0m\u001b[0;32m    437\u001b[0m \u001b[1;33m\u001b[0m\u001b[0m\n\u001b[0;32m    438\u001b[0m     \u001b[1;32mdef\u001b[0m \u001b[0mwrap_output\u001b[0m\u001b[1;33m(\u001b[0m\u001b[0mself\u001b[0m\u001b[1;33m,\u001b[0m \u001b[0mobj\u001b[0m\u001b[1;33m,\u001b[0m \u001b[0mhow\u001b[0m\u001b[1;33m=\u001b[0m\u001b[1;34m'columns'\u001b[0m\u001b[1;33m,\u001b[0m \u001b[0mnames\u001b[0m\u001b[1;33m=\u001b[0m\u001b[1;32mNone\u001b[0m\u001b[1;33m)\u001b[0m\u001b[1;33m:\u001b[0m\u001b[1;33m\u001b[0m\u001b[1;33m\u001b[0m\u001b[0m\n",
      "\u001b[1;31mValueError\u001b[0m: endog and exog matrices are different sizes"
     ]
    },
    {
     "data": {
      "image/png": "[encoded data removed]",
      "text/plain": [
       "<Figure size 432x288 with 1 Axes>"
      ]
     },
     "metadata": {
      "needs_background": "light"
     },
     "output_type": "display_data"
    }
   ],
   "source": [
    "# n = int(np.log(P_t) / np.log(1+r))\n",
    "n = 1000\n",
    "\n",
    "prices = list()\n",
    "P_tt = P_T\n",
    "N_TOMINT, N_TO_BURN = 0 , 0\n",
    "NUMBER_OF_WADS = NEW_AMOT_BLOOCKED\n",
    "\n",
    "spbook = SPBook(NEW_AMOT_BLOOCKED_T,r_daily=r)\n",
    "\n",
    "for t in range(n):\n",
    "    AMOUNT_BLOCKED_T = NEW_AMOT_BLOOCKED_T * P_tt\n",
    "    NUMBER_OF_WADS_T = AMOUNT_BLOCKED_T / P_tt\n",
    "\n",
    "    P_t = variant2(P_t,AMOUNT_BLOCKED_T,N_TOMINT,N_TO_BURN,r,NUMBER_OF_WADS_T)\n",
    "    prices.append(P_t)\n",
    "    P_tt = P_t\n",
    "\n",
    "    spbook.overnight()\n",
    "\n",
    "print(prices[:5],'\\n',prices[-5:])\n",
    "\n",
    "print('SP`s book amount:',spbook.amount,'\\nWadSet`s book amount:',AMOUNT_BLOCKED_T)\n",
    "\n",
    "\n",
    "plt.plot([t for t in range(n)], prices);\n",
    "\n",
    "fit_ols(X,prices)"
   ]
  },
  {
   "cell_type": "code",
   "execution_count": null,
   "metadata": {},
   "outputs": [
    {
     "data": {
      "text/plain": [
       "30170.89936881009"
      ]
     },
     "execution_count": 106,
     "metadata": {},
     "output_type": "execute_result"
    }
   ],
   "source": []
  }
 ],
 "metadata": {
  "kernelspec": {
   "display_name": "tda8",
   "language": "python",
   "name": "python3"
  },
  "language_info": {
   "codemirror_mode": {
    "name": "ipython",
    "version": 3
   },
   "file_extension": ".py",
   "mimetype": "text/x-python",
   "name": "python",
   "nbconvert_exporter": "python",
   "pygments_lexer": "ipython3",
   "version": "3.8.5"
  },
  "orig_nbformat": 4
 },
 "nbformat": 4,
 "nbformat_minor": 2
}
